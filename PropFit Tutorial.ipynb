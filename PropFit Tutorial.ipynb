{
 "cells": [
  {
   "cell_type": "markdown",
   "id": "951b019b-e075-4353-badc-bfc077b2baac",
   "metadata": {},
   "source": [
    "# Regress Thermodynamic Data using PropFit  \n",
    "\n",
    "Author: Jordyn Robare  \n",
    "email: jordynrobare@gmail.com  \n",
    "\n",
    "This notebook is made to demonstrate how to regress thermodynamic data for organic molecules in order to estimate group contribution values. \n",
    "Group contribution values are then made into files that can be used in the AqOrg package (Boyer et al., 2025) to estimate properties of whole molecules. \n",
    "\n",
    "Add example of modifying the thermodynamic database"
   ]
  },
  {
   "cell_type": "markdown",
   "id": "bb5f72c1-3529-49ad-9b06-849a7afb539a",
   "metadata": {},
   "source": [
    "### 1. Import necessary packages"
   ]
  },
  {
   "cell_type": "code",
   "execution_count": null,
   "id": "8306669b-a26c-4f7a-8783-d53d31e2999a",
   "metadata": {},
   "outputs": [],
   "source": [
    "from AqOrg import Estimate\n",
    "import pandas as pd\n",
    "import PropFit\n",
    "from pyCHNOSZ import *"
   ]
  },
  {
   "cell_type": "markdown",
   "id": "ad691b2d-c5ad-42fb-af35-6a8932cc3bb6",
   "metadata": {},
   "source": [
    "### 2. Initialize the package using the Propfit class  \n",
    "Add the name of a CSV as the thermodynamic database from which group contribution values will be regressed. We provide a CSV named 'default database.csv' that \n",
    "may be sufficient. However, it can be modified intro a custom database built by the user.   \n",
    "  \n",
    "Supply the name of the thermodynamic properties that need to be regressed. "
   ]
  },
  {
   "cell_type": "code",
   "execution_count": null,
   "id": "0ec671cf-5129-40f9-b7c5-f8ede944f6bd",
   "metadata": {
    "scrolled": true
   },
   "outputs": [],
   "source": [
    "pf = PropFit.PropFit(filename = 'default database.csv', props=['Gh','Hh','Cph','V','Hig','Sig','Cpig'])"
   ]
  },
  {
   "cell_type": "markdown",
   "id": "c6dbacdd-bc0d-40a5-a5ee-70474df5e29f",
   "metadata": {},
   "source": [
    "### 3. Combine molecular properties with group data using the dataprep() function  \n",
    "This step will take the input file with molecular thermodynamic properties and combine it with the group matching for each molecule.  \n",
    "Default arguments\n",
    "- average = True (average values when their is more than one measurement for a molecular property. \n",
    "- order = 2 (1st or 2nd order method)\n",
    "- output_name = None (if no name is supplied, the file will be called 'properties and groups.csv'\n",
    "\n",
    "This cell will take a minute."
   ]
  },
  {
   "cell_type": "code",
   "execution_count": null,
   "id": "acb58a06-d4fe-4715-8dda-82a652cbeef5",
   "metadata": {
    "scrolled": true
   },
   "outputs": [],
   "source": [
    "pf.dataprep()"
   ]
  },
  {
   "cell_type": "markdown",
   "id": "7234325b-12bc-4c25-b617-b20ee52e0cc9",
   "metadata": {},
   "source": [
    "##### 3.1. Visualize the file you just generated"
   ]
  },
  {
   "cell_type": "code",
   "execution_count": null,
   "id": "00393a91-05d7-468e-9a82-e3bcb2ffa582",
   "metadata": {},
   "outputs": [],
   "source": [
    "df = pd.read_csv('properties and groups.csv')\n",
    "df.head()"
   ]
  },
  {
   "cell_type": "markdown",
   "id": "9be5d5d0-6f3b-4b61-bb2a-740897c379b8",
   "metadata": {},
   "source": [
    "### 4. Regress thermodynamic properties of groups  \n",
    "Using the file you just generated, regress the thermodynamic properties of groups in the dataframe using the group_property_estimator() function. \n",
    "- filename = Name of the file containing compounds, properties, and group matching data.\n",
    "- props = ['Gh','Hh','Cph','V','Hig','Sig','Cpig'] (list of group properties that need to be regressed - these need to match the column names in the input file)\n",
    "- ignore = list of properties you do not wish to regress."
   ]
  },
  {
   "cell_type": "code",
   "execution_count": null,
   "id": "78f4b655-55e1-4de5-95e6-5738db3e441c",
   "metadata": {},
   "outputs": [],
   "source": [
    "pf.group_property_estimator('properties and groups.csv', props = ['Gh','Hh','Cph','V','Hig','Sig','Cpig'])"
   ]
  },
  {
   "cell_type": "markdown",
   "id": "5fc34c04-09a3-4ba5-928d-3f27302d322a",
   "metadata": {},
   "source": [
    "### 5. Check for overfitting of the model  \n",
    "Compare how well the model estimates properties of the training set versus the test set. The default training size is 80% while the default test size is 20%, so it is typical for the errors in the test set to be higher. However, is the gap between the training and test set errors increases, be wary that the model is overfitting to the training set. This cell will take the longest to run, but should be run once to determine if it is reasonble to use the group data for new molecular estimations. It will produce a bar plot of training and test set errors for each property. A dataframe with the values will also be produced, named 'stats df.csv'.  \n",
    "- repeats = how many iterations to do the semi-random train-test-split. Default: 100\n",
    "- test_size = what fraction of the entire database to make the test set. Default: 0.2\n",
    "- filename = name of the CSV with properties and groups from which to perform the train-test-split\n",
    "- output_name = name of output file\n",
    "- show = True or False. Show plot of errors?"
   ]
  },
  {
   "cell_type": "code",
   "execution_count": null,
   "id": "1c298fda-69a7-44a5-a93a-efa2329267c3",
   "metadata": {},
   "outputs": [],
   "source": [
    "pf.tts()"
   ]
  },
  {
   "cell_type": "markdown",
   "id": "559035cc-01ea-4e51-932d-3692e13c15db",
   "metadata": {},
   "source": [
    "### 6. Generate the group properties datasheet  \n",
    "Once you are satisfied with the data, use the generate() function to make a dataframe which contains thermodynamic properties of each group. These dataframes can be used as input to the Estimate() function of the sister package, AqOrg.\n",
    "\n",
    "- filename = 'properties and groups regressed'\n",
    "- order: order of approximation\n",
    "- hyd_props = ['Gh','Hh','Cph','V'] (list of hydration properties you want to regress)\n",
    "- gas_props = ['Hig','Sig','Cpig'] (list of ideal gas properties you want to regress)"
   ]
  },
  {
   "cell_type": "code",
   "execution_count": null,
   "id": "dcbe4ac1-efcf-49cc-a530-4db748417db9",
   "metadata": {},
   "outputs": [],
   "source": [
    "pf.generate(filename = 'small test props and groups regressed')"
   ]
  },
  {
   "cell_type": "markdown",
   "id": "1146f177-26d2-4f50-9112-5cd5fb219e8a",
   "metadata": {},
   "source": [
    "### 7. Estimate properties of new molecules  \n",
    "Provide the name of the dataframes you just generated to the Estimate function of AqOrg to estimate properties of new molecules. Be careful not to re-estimate properties for molecules that have already been experimentally determined. "
   ]
  },
  {
   "cell_type": "code",
   "execution_count": null,
   "id": "2fcc4fc9-6ffe-4478-9b8b-e655e8af52cf",
   "metadata": {},
   "outputs": [],
   "source": [
    "gas_props = Estimate(name=\"phytanol\", state=\"gas\", ig_method=\"custom\", group_data=\"gas props.csv\")"
   ]
  },
  {
   "cell_type": "code",
   "execution_count": null,
   "id": "9a362a5f-9da3-458d-9d52-ff9bfc80e34f",
   "metadata": {},
   "outputs": [],
   "source": [
    "aq_props = Estimate(name=\"phytanol\", state=\"aq\", group_data=\"hyd props.csv\",\n",
    "                    Gig = gas_props.Gig,\n",
    "                    Hig = gas_props.Hig,\n",
    "                    Sig = gas_props.Sig, \n",
    "                    Cpig = gas_props.Cpig\n",
    "                   )"
   ]
  },
  {
   "cell_type": "markdown",
   "id": "729c9eae-bab6-4820-b068-7ad3b0b02eca",
   "metadata": {},
   "source": [
    "Add your new data into pyCHNOSZ (Boyer, 2024), a python wrapper for thermodynamic modeling R software CHNOSZ (Dick, 2019), using 'add_OBIGT(aq_props.OBIGT)'."
   ]
  },
  {
   "cell_type": "code",
   "execution_count": null,
   "id": "94244b3e-7a1a-4e78-8951-54dbe190e493",
   "metadata": {},
   "outputs": [],
   "source": [
    "add_OBIGT(aq_props.OBIGT)"
   ]
  },
  {
   "cell_type": "markdown",
   "id": "d048f8b9-a0f2-4d2f-8b99-b15e6df4119e",
   "metadata": {},
   "source": [
    "View the molecule with 'info(info('molecule'))'."
   ]
  },
  {
   "cell_type": "code",
   "execution_count": null,
   "id": "2e44d7e7-a951-4657-a278-7ca7140837ed",
   "metadata": {},
   "outputs": [],
   "source": [
    "info(info('phytanol'))"
   ]
  },
  {
   "cell_type": "markdown",
   "id": "5d4dea85-3482-46e7-9851-ba7cd4020efd",
   "metadata": {},
   "source": [
    "### References"
   ]
  },
  {
   "cell_type": "markdown",
   "id": "9650ba10-8d62-4e1e-abf1-8cde6ffb4f26",
   "metadata": {},
   "source": [
    "Boyer, G., Robare, J., & Shock, E. (2025). AqOrg : Python package for estimating thermodynamic properties of aqueous organic molecules (v0.2.1). Zenodo. https://doi.org/10.5281/zenodo.14963369  \n",
    "Boyer, G. (2024). pyCHNOSZ: Python wrapper for the thermodynamic package CHNOSZ (v0.8.15). Zenodo. https://doi.org/10.5281/zenodo.11406142  \n",
    "Dick, J.M. (2019). CHNOSZ: Thermodynamic calculations and diagrams for geochemistry. Frontiers in Earth Science, 7, p.180. https://doi.org/10.3389/feart.2019.00180"
   ]
  }
 ],
 "metadata": {
  "kernelspec": {
   "display_name": "Python 3",
   "language": "python",
   "name": "python3"
  },
  "language_info": {
   "codemirror_mode": {
    "name": "ipython",
    "version": 3
   },
   "file_extension": ".py",
   "mimetype": "text/x-python",
   "name": "python",
   "nbconvert_exporter": "python",
   "pygments_lexer": "ipython3",
   "version": "3.10.12"
  }
 },
 "nbformat": 4,
 "nbformat_minor": 5
}
