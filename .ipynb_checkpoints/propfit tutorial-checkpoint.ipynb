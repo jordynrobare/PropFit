{
 "cells": [
  {
   "cell_type": "markdown",
   "id": "951b019b-e075-4353-badc-bfc077b2baac",
   "metadata": {},
   "source": [
    "# Regress Thermodynamic Data using PropFit  \n",
    "\n",
    "Author: Jordyn Robare  \n",
    "email: jordynrobare@gmail.com  \n",
    "\n",
    "This notebook is made to demonstrate how to regress thermodynamic data for organic molecules in order to estimate group contribution values. \n",
    "Group contribution values are then made into files that can be used in the AqOrg package (Boyer et al., 2025) to estimate properties of whole molecules. \n",
    "\n",
    "Add example of modifying the thermodynamic database"
   ]
  },
  {
   "cell_type": "markdown",
   "id": "bb5f72c1-3529-49ad-9b06-849a7afb539a",
   "metadata": {},
   "source": [
    "### 1. Import necessary packages"
   ]
  },
  {
   "cell_type": "code",
   "execution_count": 1,
   "id": "8306669b-a26c-4f7a-8783-d53d31e2999a",
   "metadata": {},
   "outputs": [],
   "source": [
    "from AqOrg import Estimate\n",
    "import pandas as pd\n",
    "import propfit\n",
    "from pyCHNOSZ import *"
   ]
  },
  {
   "cell_type": "markdown",
   "id": "ad691b2d-c5ad-42fb-af35-6a8932cc3bb6",
   "metadata": {},
   "source": [
    "### 2. Initialize the package using the Propfit class  \n",
    "Add the name of a CSV as the thermodynamic database from which group contribution values will be regressed. We provide a CSV named 'default database.csv' that \n",
    "may be sufficient. However, it can be modified intro a custom database built by the user.   \n",
    "  \n",
    "Supply the name of the thermodynamic properties that need to be regressed. "
   ]
  },
  {
   "cell_type": "code",
   "execution_count": 2,
   "id": "0ec671cf-5129-40f9-b7c5-f8ede944f6bd",
   "metadata": {
    "scrolled": true
   },
   "outputs": [],
   "source": [
    "pf = propfit.PropFit()"
   ]
  },
  {
   "cell_type": "markdown",
   "id": "c6dbacdd-bc0d-40a5-a5ee-70474df5e29f",
   "metadata": {},
   "source": [
    "### 3. Combine molecular properties with group data using the dataprep() function  \n",
    "This step will take the input file with molecular thermodynamic properties and combine it with the group matching for each molecule.  \n",
    "Default arguments\n",
    "- average = True (average values when their is more than one measurement for a molecular property. \n",
    "- order = 2 (1st or 2nd order method)\n",
    "- output_name = None (if no name is supplied, the file will be called 'properties and groups.csv'\n",
    "\n",
    "This cell will take a minute."
   ]
  },
  {
   "cell_type": "code",
   "execution_count": 3,
   "id": "acb58a06-d4fe-4715-8dda-82a652cbeef5",
   "metadata": {
    "scrolled": true
   },
   "outputs": [
    {
     "name": "stdout",
     "output_type": "stream",
     "text": [
      "properties and groups.csv created\n"
     ]
    }
   ],
   "source": [
    "pf.dataprep()"
   ]
  },
  {
   "cell_type": "markdown",
   "id": "7234325b-12bc-4c25-b617-b20ee52e0cc9",
   "metadata": {},
   "source": [
    "##### 3.1. Visualize the file you just generated"
   ]
  },
  {
   "cell_type": "code",
   "execution_count": 5,
   "id": "00393a91-05d7-468e-9a82-e3bcb2ffa582",
   "metadata": {},
   "outputs": [
    {
     "data": {
      "text/html": [
       "<div>\n",
       "<style scoped>\n",
       "    .dataframe tbody tr th:only-of-type {\n",
       "        vertical-align: middle;\n",
       "    }\n",
       "\n",
       "    .dataframe tbody tr th {\n",
       "        vertical-align: top;\n",
       "    }\n",
       "\n",
       "    .dataframe thead th {\n",
       "        text-align: right;\n",
       "    }\n",
       "</style>\n",
       "<table border=\"1\" class=\"dataframe\">\n",
       "  <thead>\n",
       "    <tr style=\"text-align: right;\">\n",
       "      <th></th>\n",
       "      <th>compound</th>\n",
       "      <th>Gh</th>\n",
       "      <th>Hh</th>\n",
       "      <th>Cph</th>\n",
       "      <th>V</th>\n",
       "      <th>Hig</th>\n",
       "      <th>Sig</th>\n",
       "      <th>Cpig</th>\n",
       "      <th>C-[CX4H2R1!r3]-C</th>\n",
       "      <th>C-[CX4H1R1!r3](-C)-C</th>\n",
       "      <th>...</th>\n",
       "      <th>C-[CX4H0R1!r3](-O)(-C)-O</th>\n",
       "      <th>O-[CX4H1R1r3](-C)-C</th>\n",
       "      <th>C-[CX4H1R1r3](-C)-C</th>\n",
       "      <th>C-[CX4H0R1r3](-C)(-C)-C</th>\n",
       "      <th>[CX4H2R1r3]</th>\n",
       "      <th>C-[CX4H1R3r3](-C)-C</th>\n",
       "      <th>C-[CX4H0R3r3](-C)(-C)-C</th>\n",
       "      <th>C-[CX4H0R2r3](-[CX4H1R2r3])(-C)-C</th>\n",
       "      <th>C-[CX4H2R1!r3][cX3H0R2!r3][cH1]</th>\n",
       "      <th>formula</th>\n",
       "    </tr>\n",
       "  </thead>\n",
       "  <tbody>\n",
       "    <tr>\n",
       "      <th>0</th>\n",
       "      <td>Propane</td>\n",
       "      <td>16.090000</td>\n",
       "      <td>-22.926667</td>\n",
       "      <td>346.666667</td>\n",
       "      <td>70.90</td>\n",
       "      <td>-104.70</td>\n",
       "      <td>270.31</td>\n",
       "      <td>76.3</td>\n",
       "      <td>0.0</td>\n",
       "      <td>0.0</td>\n",
       "      <td>...</td>\n",
       "      <td>0.0</td>\n",
       "      <td>0.0</td>\n",
       "      <td>0.0</td>\n",
       "      <td>0.0</td>\n",
       "      <td>0.0</td>\n",
       "      <td>0.0</td>\n",
       "      <td>0.0</td>\n",
       "      <td>0.0</td>\n",
       "      <td>0.0</td>\n",
       "      <td>C3H8</td>\n",
       "    </tr>\n",
       "    <tr>\n",
       "      <th>1</th>\n",
       "      <td>n-Butane</td>\n",
       "      <td>16.580000</td>\n",
       "      <td>-25.925000</td>\n",
       "      <td>386.500000</td>\n",
       "      <td>75.55</td>\n",
       "      <td>-125.60</td>\n",
       "      <td>309.91</td>\n",
       "      <td>98.5</td>\n",
       "      <td>0.0</td>\n",
       "      <td>0.0</td>\n",
       "      <td>...</td>\n",
       "      <td>0.0</td>\n",
       "      <td>0.0</td>\n",
       "      <td>0.0</td>\n",
       "      <td>0.0</td>\n",
       "      <td>0.0</td>\n",
       "      <td>0.0</td>\n",
       "      <td>0.0</td>\n",
       "      <td>0.0</td>\n",
       "      <td>0.0</td>\n",
       "      <td>C4H10</td>\n",
       "    </tr>\n",
       "    <tr>\n",
       "      <th>2</th>\n",
       "      <td>n-Pentane</td>\n",
       "      <td>17.386000</td>\n",
       "      <td>-27.720000</td>\n",
       "      <td>452.000000</td>\n",
       "      <td>NaN</td>\n",
       "      <td>-146.75</td>\n",
       "      <td>349.56</td>\n",
       "      <td>120.0</td>\n",
       "      <td>0.0</td>\n",
       "      <td>0.0</td>\n",
       "      <td>...</td>\n",
       "      <td>0.0</td>\n",
       "      <td>0.0</td>\n",
       "      <td>0.0</td>\n",
       "      <td>0.0</td>\n",
       "      <td>0.0</td>\n",
       "      <td>0.0</td>\n",
       "      <td>0.0</td>\n",
       "      <td>0.0</td>\n",
       "      <td>0.0</td>\n",
       "      <td>C5H12</td>\n",
       "    </tr>\n",
       "    <tr>\n",
       "      <th>3</th>\n",
       "      <td>n-Hexane</td>\n",
       "      <td>16.962727</td>\n",
       "      <td>-31.470000</td>\n",
       "      <td>492.700000</td>\n",
       "      <td>NaN</td>\n",
       "      <td>-166.97</td>\n",
       "      <td>388.85</td>\n",
       "      <td>142.6</td>\n",
       "      <td>0.0</td>\n",
       "      <td>0.0</td>\n",
       "      <td>...</td>\n",
       "      <td>0.0</td>\n",
       "      <td>0.0</td>\n",
       "      <td>0.0</td>\n",
       "      <td>0.0</td>\n",
       "      <td>0.0</td>\n",
       "      <td>0.0</td>\n",
       "      <td>0.0</td>\n",
       "      <td>0.0</td>\n",
       "      <td>0.0</td>\n",
       "      <td>C6H14</td>\n",
       "    </tr>\n",
       "    <tr>\n",
       "      <th>4</th>\n",
       "      <td>n-Heptane</td>\n",
       "      <td>18.354375</td>\n",
       "      <td>-36.186667</td>\n",
       "      <td>540.000000</td>\n",
       "      <td>NaN</td>\n",
       "      <td>-187.54</td>\n",
       "      <td>428.10</td>\n",
       "      <td>165.2</td>\n",
       "      <td>0.0</td>\n",
       "      <td>0.0</td>\n",
       "      <td>...</td>\n",
       "      <td>0.0</td>\n",
       "      <td>0.0</td>\n",
       "      <td>0.0</td>\n",
       "      <td>0.0</td>\n",
       "      <td>0.0</td>\n",
       "      <td>0.0</td>\n",
       "      <td>0.0</td>\n",
       "      <td>0.0</td>\n",
       "      <td>0.0</td>\n",
       "      <td>C7H16</td>\n",
       "    </tr>\n",
       "  </tbody>\n",
       "</table>\n",
       "<p>5 rows × 129 columns</p>\n",
       "</div>"
      ],
      "text/plain": [
       "    compound         Gh         Hh         Cph      V     Hig     Sig   Cpig  \\\n",
       "0    Propane  16.090000 -22.926667  346.666667  70.90 -104.70  270.31   76.3   \n",
       "1   n-Butane  16.580000 -25.925000  386.500000  75.55 -125.60  309.91   98.5   \n",
       "2  n-Pentane  17.386000 -27.720000  452.000000    NaN -146.75  349.56  120.0   \n",
       "3   n-Hexane  16.962727 -31.470000  492.700000    NaN -166.97  388.85  142.6   \n",
       "4  n-Heptane  18.354375 -36.186667  540.000000    NaN -187.54  428.10  165.2   \n",
       "\n",
       "   C-[CX4H2R1!r3]-C  C-[CX4H1R1!r3](-C)-C  ...  C-[CX4H0R1!r3](-O)(-C)-O  \\\n",
       "0               0.0                   0.0  ...                       0.0   \n",
       "1               0.0                   0.0  ...                       0.0   \n",
       "2               0.0                   0.0  ...                       0.0   \n",
       "3               0.0                   0.0  ...                       0.0   \n",
       "4               0.0                   0.0  ...                       0.0   \n",
       "\n",
       "   O-[CX4H1R1r3](-C)-C  C-[CX4H1R1r3](-C)-C  C-[CX4H0R1r3](-C)(-C)-C  \\\n",
       "0                  0.0                  0.0                      0.0   \n",
       "1                  0.0                  0.0                      0.0   \n",
       "2                  0.0                  0.0                      0.0   \n",
       "3                  0.0                  0.0                      0.0   \n",
       "4                  0.0                  0.0                      0.0   \n",
       "\n",
       "   [CX4H2R1r3]  C-[CX4H1R3r3](-C)-C  C-[CX4H0R3r3](-C)(-C)-C  \\\n",
       "0          0.0                  0.0                      0.0   \n",
       "1          0.0                  0.0                      0.0   \n",
       "2          0.0                  0.0                      0.0   \n",
       "3          0.0                  0.0                      0.0   \n",
       "4          0.0                  0.0                      0.0   \n",
       "\n",
       "   C-[CX4H0R2r3](-[CX4H1R2r3])(-C)-C  C-[CX4H2R1!r3][cX3H0R2!r3][cH1]  formula  \n",
       "0                                0.0                              0.0     C3H8  \n",
       "1                                0.0                              0.0    C4H10  \n",
       "2                                0.0                              0.0    C5H12  \n",
       "3                                0.0                              0.0    C6H14  \n",
       "4                                0.0                              0.0    C7H16  \n",
       "\n",
       "[5 rows x 129 columns]"
      ]
     },
     "execution_count": 5,
     "metadata": {},
     "output_type": "execute_result"
    }
   ],
   "source": [
    "df = pd.read_csv('properties and groups.csv')\n",
    "df.head()"
   ]
  },
  {
   "cell_type": "markdown",
   "id": "9be5d5d0-6f3b-4b61-bb2a-740897c379b8",
   "metadata": {},
   "source": [
    "### 4. Regress thermodynamic properties of groups  \n",
    "Using the file you just generated, regress the thermodynamic properties of groups in the dataframe using the group_property_estimator() function. \n",
    "- filename = Name of the file containing compounds, properties, and group matching data.\n",
    "- props = ['Gh','Hh','Cph','V','Hig','Sig','Cpig'] (list of group properties that need to be regressed - these need to match the column names in the input file)\n",
    "- ignore = list of properties you do not wish to regress."
   ]
  },
  {
   "cell_type": "code",
   "execution_count": 4,
   "id": "78f4b655-55e1-4de5-95e6-5738db3e441c",
   "metadata": {},
   "outputs": [],
   "source": [
    "pf.group_property_estimator('properties and groups.csv', props = ['Gh','Hh','Cph','V','Hig','Sig','Cpig'])"
   ]
  },
  {
   "cell_type": "markdown",
   "id": "5fc34c04-09a3-4ba5-928d-3f27302d322a",
   "metadata": {},
   "source": [
    "### 5. Check for overfitting of the model  \n",
    "Compare how well the model estimates properties of the training set versus the test set. The default training size is 80% while the default test size is 20%, so it is typical for the errors in the test set to be higher. However, is the gap between the training and test set errors increases, be wary that the model is overfitting to the training set. This cell will take the longest to run, but should be run once to determine if it is reasonble to use the group data for new molecular estimations. It will produce a bar plot of training and test set errors for each property. A dataframe with the values will also be produced, named 'stats df.csv'.  \n",
    "- repeats = how many iterations to do the semi-random train-test-split. Default: 100\n",
    "- test_size = what fraction of the entire database to make the test set. Default: 0.2\n",
    "- filename = name of the CSV with properties and groups from which to perform the train-test-split\n",
    "- output_name = name of output file\n",
    "- show = True or False. Show plot of errors?"
   ]
  },
  {
   "cell_type": "code",
   "execution_count": 7,
   "id": "1c298fda-69a7-44a5-a93a-efa2329267c3",
   "metadata": {},
   "outputs": [
    {
     "data": {
      "image/png": "[encoded data removed]",
      "text/plain": [
       "<Figure size 1400x200 with 7 Axes>"
      ]
     },
     "metadata": {},
     "output_type": "display_data"
    }
   ],
   "source": [
    "pf.tts()"
   ]
  },
  {
   "cell_type": "markdown",
   "id": "559035cc-01ea-4e51-932d-3692e13c15db",
   "metadata": {},
   "source": [
    "### 6. Generate the group properties datasheet  \n",
    "Once you are satisfied with the data, use the generate() function to make a dataframe which contains thermodynamic properties of each group. These dataframes can be used as input to the Estimate() function of the sister package, AqOrg.\n",
    "\n",
    "- filename = 'properties and groups regressed'\n",
    "- order: order of approximation\n",
    "- hyd_props = ['Gh','Hh','Cph','V'] (list of hydration properties you want to regress)\n",
    "- gas_props = ['Hig','Sig','Cpig'] (list of ideal gas properties you want to regress)"
   ]
  },
  {
   "cell_type": "code",
   "execution_count": 5,
   "id": "dcbe4ac1-efcf-49cc-a530-4db748417db9",
   "metadata": {},
   "outputs": [],
   "source": [
    "pf.generate()"
   ]
  },
  {
   "cell_type": "markdown",
   "id": "1146f177-26d2-4f50-9112-5cd5fb219e8a",
   "metadata": {},
   "source": [
    "### 7. Estimate properties of new molecules  \n",
    "Provide the name of the dataframes you just generated to the Estimate function of AqOrg to estimate properties of new molecules. Be careful not to re-estimate properties for molecules that have already been experimentally determined. "
   ]
  },
  {
   "cell_type": "code",
   "execution_count": 10,
   "id": "2fcc4fc9-6ffe-4478-9b8b-e655e8af52cf",
   "metadata": {},
   "outputs": [
    {
     "data": {
      "image/svg+xml": [
       "<svg xmlns=\"http://www.w3.org/2000/svg\" xmlns:rdkit=\"http://www.rdkit.org/xml\" xmlns:xlink=\"http://www.w3.org/1999/xlink\" version=\"1.1\" baseProfile=\"full\" xml:space=\"preserve\" width=\"450px\" height=\"150px\" viewBox=\"0 0 450 150\">\n",
       "<!-- END OF HEADER -->\n",
       "<rect style=\"opacity:1.0;fill:#FFFFFF;stroke:none\" width=\"450.0\" height=\"150.0\" x=\"0.0\" y=\"0.0\"> </rect>\n",
       "<path class=\"bond-0 atom-0 atom-1\" d=\"M 22.5,87.8 L 85.2,51.5\" style=\"fill:none;fill-rule:evenodd;stroke:#000000;stroke-width:2.0px;stroke-linecap:butt;stroke-linejoin:miter;stroke-opacity:1\"/>\n",
       "<path class=\"bond-1 atom-1 atom-2\" d=\"M 85.2,51.5 L 147.9,87.8\" style=\"fill:none;fill-rule:evenodd;stroke:#000000;stroke-width:2.0px;stroke-linecap:butt;stroke-linejoin:miter;stroke-opacity:1\"/>\n",
       "<path class=\"bond-2 atom-2 atom-3\" d=\"M 147.9,87.8 L 210.7,51.5\" style=\"fill:none;fill-rule:evenodd;stroke:#000000;stroke-width:2.0px;stroke-linecap:butt;stroke-linejoin:miter;stroke-opacity:1\"/>\n",
       "<path class=\"bond-3 atom-3 atom-4\" d=\"M 210.7,51.5 L 273.4,87.8\" style=\"fill:none;fill-rule:evenodd;stroke:#000000;stroke-width:2.0px;stroke-linecap:butt;stroke-linejoin:miter;stroke-opacity:1\"/>\n",
       "<path class=\"bond-4 atom-4 atom-5\" d=\"M 273.4,87.8 L 336.1,51.5\" style=\"fill:none;fill-rule:evenodd;stroke:#000000;stroke-width:2.0px;stroke-linecap:butt;stroke-linejoin:miter;stroke-opacity:1\"/>\n",
       "<path class=\"bond-5 atom-5 atom-6\" d=\"M 336.1,51.5 L 361.6,66.2\" style=\"fill:none;fill-rule:evenodd;stroke:#000000;stroke-width:2.0px;stroke-linecap:butt;stroke-linejoin:miter;stroke-opacity:1\"/>\n",
       "<path class=\"bond-5 atom-5 atom-6\" d=\"M 361.6,66.2 L 387.0,80.9\" style=\"fill:none;fill-rule:evenodd;stroke:#FF0000;stroke-width:2.0px;stroke-linecap:butt;stroke-linejoin:miter;stroke-opacity:1\"/>\n",
       "<path d=\"M 82.1,53.4 L 85.2,51.5 L 88.4,53.4\" style=\"fill:none;stroke:#000000;stroke-width:2.0px;stroke-linecap:butt;stroke-linejoin:miter;stroke-opacity:1;\"/>\n",
       "<path d=\"M 144.8,86.0 L 147.9,87.8 L 151.1,86.0\" style=\"fill:none;stroke:#000000;stroke-width:2.0px;stroke-linecap:butt;stroke-linejoin:miter;stroke-opacity:1;\"/>\n",
       "<path d=\"M 207.5,53.4 L 210.7,51.5 L 213.8,53.4\" style=\"fill:none;stroke:#000000;stroke-width:2.0px;stroke-linecap:butt;stroke-linejoin:miter;stroke-opacity:1;\"/>\n",
       "<path d=\"M 270.3,86.0 L 273.4,87.8 L 276.5,86.0\" style=\"fill:none;stroke:#000000;stroke-width:2.0px;stroke-linecap:butt;stroke-linejoin:miter;stroke-opacity:1;\"/>\n",
       "<path d=\"M 333.0,53.4 L 336.1,51.5 L 337.4,52.3\" style=\"fill:none;stroke:#000000;stroke-width:2.0px;stroke-linecap:butt;stroke-linejoin:miter;stroke-opacity:1;\"/>\n",
       "<path class=\"atom-6\" d=\"M 389.4 87.8 Q 389.4 82.9, 391.9 80.1 Q 394.3 77.4, 398.8 77.4 Q 403.4 77.4, 405.8 80.1 Q 408.3 82.9, 408.3 87.8 Q 408.3 92.8, 405.8 95.6 Q 403.3 98.5, 398.8 98.5 Q 394.3 98.5, 391.9 95.6 Q 389.4 92.8, 389.4 87.8 M 398.8 96.1 Q 402.0 96.1, 403.7 94.0 Q 405.4 91.9, 405.4 87.8 Q 405.4 83.8, 403.7 81.8 Q 402.0 79.7, 398.8 79.7 Q 395.7 79.7, 394.0 81.7 Q 392.3 83.8, 392.3 87.8 Q 392.3 92.0, 394.0 94.0 Q 395.7 96.1, 398.8 96.1 \" fill=\"#FF0000\"/>\n",
       "<path class=\"atom-6\" d=\"M 411.5 77.6 L 414.2 77.6 L 414.2 86.3 L 424.7 86.3 L 424.7 77.6 L 427.5 77.6 L 427.5 98.1 L 424.7 98.1 L 424.7 88.7 L 414.2 88.7 L 414.2 98.1 L 411.5 98.1 L 411.5 77.6 \" fill=\"#FF0000\"/>\n",
       "</svg>"
      ],
      "text/plain": [
       "<IPython.core.display.SVG object>"
      ]
     },
     "metadata": {},
     "output_type": "display_data"
    }
   ],
   "source": [
    "gas_props = Estimate(name=\"phytanol\", state=\"gas\", ig_method=\"custom\", group_data=\"gas props.csv\")"
   ]
  },
  {
   "cell_type": "code",
   "execution_count": 11,
   "id": "9a362a5f-9da3-458d-9d52-ff9bfc80e34f",
   "metadata": {},
   "outputs": [
    {
     "data": {
      "image/svg+xml": [
       "<svg xmlns=\"http://www.w3.org/2000/svg\" xmlns:rdkit=\"http://www.rdkit.org/xml\" xmlns:xlink=\"http://www.w3.org/1999/xlink\" version=\"1.1\" baseProfile=\"full\" xml:space=\"preserve\" width=\"450px\" height=\"150px\" viewBox=\"0 0 450 150\">\n",
       "<!-- END OF HEADER -->\n",
       "<rect style=\"opacity:1.0;fill:#FFFFFF;stroke:none\" width=\"450.0\" height=\"150.0\" x=\"0.0\" y=\"0.0\"> </rect>\n",
       "<path class=\"bond-0 atom-0 atom-1\" d=\"M 22.5,87.8 L 85.2,51.5\" style=\"fill:none;fill-rule:evenodd;stroke:#000000;stroke-width:2.0px;stroke-linecap:butt;stroke-linejoin:miter;stroke-opacity:1\"/>\n",
       "<path class=\"bond-1 atom-1 atom-2\" d=\"M 85.2,51.5 L 147.9,87.8\" style=\"fill:none;fill-rule:evenodd;stroke:#000000;stroke-width:2.0px;stroke-linecap:butt;stroke-linejoin:miter;stroke-opacity:1\"/>\n",
       "<path class=\"bond-2 atom-2 atom-3\" d=\"M 147.9,87.8 L 210.7,51.5\" style=\"fill:none;fill-rule:evenodd;stroke:#000000;stroke-width:2.0px;stroke-linecap:butt;stroke-linejoin:miter;stroke-opacity:1\"/>\n",
       "<path class=\"bond-3 atom-3 atom-4\" d=\"M 210.7,51.5 L 273.4,87.8\" style=\"fill:none;fill-rule:evenodd;stroke:#000000;stroke-width:2.0px;stroke-linecap:butt;stroke-linejoin:miter;stroke-opacity:1\"/>\n",
       "<path class=\"bond-4 atom-4 atom-5\" d=\"M 273.4,87.8 L 336.1,51.5\" style=\"fill:none;fill-rule:evenodd;stroke:#000000;stroke-width:2.0px;stroke-linecap:butt;stroke-linejoin:miter;stroke-opacity:1\"/>\n",
       "<path class=\"bond-5 atom-5 atom-6\" d=\"M 336.1,51.5 L 361.6,66.2\" style=\"fill:none;fill-rule:evenodd;stroke:#000000;stroke-width:2.0px;stroke-linecap:butt;stroke-linejoin:miter;stroke-opacity:1\"/>\n",
       "<path class=\"bond-5 atom-5 atom-6\" d=\"M 361.6,66.2 L 387.0,80.9\" style=\"fill:none;fill-rule:evenodd;stroke:#FF0000;stroke-width:2.0px;stroke-linecap:butt;stroke-linejoin:miter;stroke-opacity:1\"/>\n",
       "<path d=\"M 82.1,53.4 L 85.2,51.5 L 88.4,53.4\" style=\"fill:none;stroke:#000000;stroke-width:2.0px;stroke-linecap:butt;stroke-linejoin:miter;stroke-opacity:1;\"/>\n",
       "<path d=\"M 144.8,86.0 L 147.9,87.8 L 151.1,86.0\" style=\"fill:none;stroke:#000000;stroke-width:2.0px;stroke-linecap:butt;stroke-linejoin:miter;stroke-opacity:1;\"/>\n",
       "<path d=\"M 207.5,53.4 L 210.7,51.5 L 213.8,53.4\" style=\"fill:none;stroke:#000000;stroke-width:2.0px;stroke-linecap:butt;stroke-linejoin:miter;stroke-opacity:1;\"/>\n",
       "<path d=\"M 270.3,86.0 L 273.4,87.8 L 276.5,86.0\" style=\"fill:none;stroke:#000000;stroke-width:2.0px;stroke-linecap:butt;stroke-linejoin:miter;stroke-opacity:1;\"/>\n",
       "<path d=\"M 333.0,53.4 L 336.1,51.5 L 337.4,52.3\" style=\"fill:none;stroke:#000000;stroke-width:2.0px;stroke-linecap:butt;stroke-linejoin:miter;stroke-opacity:1;\"/>\n",
       "<path class=\"atom-6\" d=\"M 389.4 87.8 Q 389.4 82.9, 391.9 80.1 Q 394.3 77.4, 398.8 77.4 Q 403.4 77.4, 405.8 80.1 Q 408.3 82.9, 408.3 87.8 Q 408.3 92.8, 405.8 95.6 Q 403.3 98.5, 398.8 98.5 Q 394.3 98.5, 391.9 95.6 Q 389.4 92.8, 389.4 87.8 M 398.8 96.1 Q 402.0 96.1, 403.7 94.0 Q 405.4 91.9, 405.4 87.8 Q 405.4 83.8, 403.7 81.8 Q 402.0 79.7, 398.8 79.7 Q 395.7 79.7, 394.0 81.7 Q 392.3 83.8, 392.3 87.8 Q 392.3 92.0, 394.0 94.0 Q 395.7 96.1, 398.8 96.1 \" fill=\"#FF0000\"/>\n",
       "<path class=\"atom-6\" d=\"M 411.5 77.6 L 414.2 77.6 L 414.2 86.3 L 424.7 86.3 L 424.7 77.6 L 427.5 77.6 L 427.5 98.1 L 424.7 98.1 L 424.7 88.7 L 414.2 88.7 L 414.2 98.1 L 411.5 98.1 L 411.5 77.6 \" fill=\"#FF0000\"/>\n",
       "</svg>"
      ],
      "text/plain": [
       "<IPython.core.display.SVG object>"
      ]
     },
     "metadata": {},
     "output_type": "display_data"
    }
   ],
   "source": [
    "aq_props = Estimate(name=\"phytanol\", state=\"aq\", group_data=\"hyd props.csv\",\n",
    "                    Gig = gas_props.Gig,\n",
    "                    Hig = gas_props.Hig,\n",
    "                    Sig = gas_props.Sig, \n",
    "                    Cpig = gas_props.Cpig\n",
    "                   )"
   ]
  },
  {
   "cell_type": "markdown",
   "id": "729c9eae-bab6-4820-b068-7ad3b0b02eca",
   "metadata": {},
   "source": [
    "Add your new data into pyCHNOSZ (Boyer, 2024), a python wrapper for thermodynamic modeling R software CHNOSZ (Dick, 2019), using 'add_OBIGT(aq_props.OBIGT)'."
   ]
  },
  {
   "cell_type": "code",
   "execution_count": 12,
   "id": "94244b3e-7a1a-4e78-8951-54dbe190e493",
   "metadata": {},
   "outputs": [
    {
     "data": {
      "text/plain": [
       "[919]"
      ]
     },
     "execution_count": 12,
     "metadata": {},
     "output_type": "execute_result"
    }
   ],
   "source": [
    "add_OBIGT(aq_props.OBIGT)"
   ]
  },
  {
   "cell_type": "markdown",
   "id": "d048f8b9-a0f2-4d2f-8b99-b15e6df4119e",
   "metadata": {},
   "source": [
    "View the molecule with 'info(info('molecule'))'."
   ]
  },
  {
   "cell_type": "code",
   "execution_count": null,
   "id": "2e44d7e7-a951-4657-a278-7ca7140837ed",
   "metadata": {},
   "outputs": [],
   "source": [
    "info(info('phytanol'))"
   ]
  },
  {
   "cell_type": "code",
   "execution_count": null,
   "id": "9e196081-0b1e-4c99-91f7-41775a091458",
   "metadata": {},
   "outputs": [],
   "source": []
  },
  {
   "cell_type": "markdown",
   "id": "5d4dea85-3482-46e7-9851-ba7cd4020efd",
   "metadata": {},
   "source": [
    "### References"
   ]
  },
  {
   "cell_type": "markdown",
   "id": "9650ba10-8d62-4e1e-abf1-8cde6ffb4f26",
   "metadata": {},
   "source": [
    "Boyer, G., Robare, J., & Shock, E. (2025). AqOrg : Python package for estimating thermodynamic properties of aqueous organic molecules (v0.2.1). Zenodo. https://doi.org/10.5281/zenodo.14963369  \n",
    "Boyer, G. (2024). pyCHNOSZ: Python wrapper for the thermodynamic package CHNOSZ (v0.8.15). Zenodo. https://doi.org/10.5281/zenodo.11406142  \n",
    "Dick, J.M. (2019). CHNOSZ: Thermodynamic calculations and diagrams for geochemistry. Frontiers in Earth Science, 7, p.180. https://doi.org/10.3389/feart.2019.00180"
   ]
  },
  {
   "cell_type": "code",
   "execution_count": null,
   "id": "ce3f40c1-5d60-41cc-9790-7de1c4480df8",
   "metadata": {},
   "outputs": [],
   "source": []
  }
 ],
 "metadata": {
  "kernelspec": {
   "display_name": "Python 3",
   "language": "python",
   "name": "python3"
  },
  "language_info": {
   "codemirror_mode": {
    "name": "ipython",
    "version": 3
   },
   "file_extension": ".py",
   "mimetype": "text/x-python",
   "name": "python",
   "nbconvert_exporter": "python",
   "pygments_lexer": "ipython3",
   "version": "3.10.12"
  }
 },
 "nbformat": 4,
 "nbformat_minor": 5
}
